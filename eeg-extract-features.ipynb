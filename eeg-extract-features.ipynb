{
 "cells": [
  {
   "cell_type": "markdown",
   "id": "d314918f",
   "metadata": {
    "papermill": {
     "duration": 0.022751,
     "end_time": "2022-09-21T06:57:16.206052",
     "exception": false,
     "start_time": "2022-09-21T06:57:16.183301",
     "status": "completed"
    },
    "tags": []
   },
   "source": [
    "# EEG Feature Extraction\n"
   ]
  },
  {
   "cell_type": "markdown",
   "id": "3ed403b0",
   "metadata": {
    "papermill": {
     "duration": 0.026017,
     "end_time": "2022-09-21T06:57:16.255281",
     "exception": false,
     "start_time": "2022-09-21T06:57:16.229264",
     "status": "completed"
    },
    "tags": []
   },
   "source": [
    "# Importing all required libraries\n"
   ]
  },
  {
   "cell_type": "code",
   "execution_count": 1,
   "id": "f30f8384",
   "metadata": {
    "execution": {
     "iopub.execute_input": "2022-09-21T06:57:16.301984Z",
     "iopub.status.busy": "2022-09-21T06:57:16.300206Z",
     "iopub.status.idle": "2022-09-21T06:57:17.415601Z",
     "shell.execute_reply": "2022-09-21T06:57:17.414798Z",
     "shell.execute_reply.started": "2022-09-21T06:35:19.354402Z"
    },
    "papermill": {
     "duration": 1.13917,
     "end_time": "2022-09-21T06:57:17.415846",
     "exception": false,
     "start_time": "2022-09-21T06:57:16.276676",
     "status": "completed"
    },
    "tags": []
   },
   "outputs": [],
   "source": [
    "from scipy.io import loadmat\n",
    "import numpy as np\n",
    "import pandas as pd\n",
    "import csv\n",
    "import pickle\n",
    "import os\n",
    "import seaborn as sns\n",
    "from scipy.signal import butter, filtfilt\n",
    "from scipy.stats import zscore\n",
    "import scipy.io\n",
    "\n",
    "import matplotlib.pyplot as plt\n",
    "import io\n",
    "import matplotlib.cm as cm\n",
    "from collections import defaultdict\n",
    "from scipy import signal"
   ]
  },
  {
   "cell_type": "code",
   "execution_count": 2,
   "id": "abb1f63f",
   "metadata": {
    "execution": {
     "iopub.execute_input": "2022-09-21T06:57:17.460122Z",
     "iopub.status.busy": "2022-09-21T06:57:17.459359Z",
     "iopub.status.idle": "2022-09-21T06:57:17.461986Z",
     "shell.execute_reply": "2022-09-21T06:57:17.462479Z",
     "shell.execute_reply.started": "2022-09-21T06:35:20.270547Z"
    },
    "papermill": {
     "duration": 0.027128,
     "end_time": "2022-09-21T06:57:17.462679",
     "exception": false,
     "start_time": "2022-09-21T06:57:17.435551",
     "status": "completed"
    },
    "tags": []
   },
   "outputs": [],
   "source": [
    "import os"
   ]
  },
  {
   "cell_type": "markdown",
   "id": "0d2b685b",
   "metadata": {
    "papermill": {
     "duration": 0.018991,
     "end_time": "2022-09-21T06:57:17.501725",
     "exception": false,
     "start_time": "2022-09-21T06:57:17.482734",
     "status": "completed"
    },
    "tags": []
   },
   "source": [
    "# Understanding data"
   ]
  },
  {
   "cell_type": "markdown",
   "id": "7b819742",
   "metadata": {
    "papermill": {
     "duration": 0.018968,
     "end_time": "2022-09-21T06:57:17.539848",
     "exception": false,
     "start_time": "2022-09-21T06:57:17.520880",
     "status": "completed"
    },
    "tags": []
   },
   "source": [
    "<br>We have sampling frequency = 128Hz\n",
    "<br>1st 10 minutes of data(t=0 min to t=10 min) is for \"focussed\" state\n",
    "<br>2nd 10 minutes of data(t=10 min to t=20 min) is for \"unfocussed\" state\n",
    "<br>Remaining data(t=20 min to onwards) is for \"Drowsed\" state\n",
    "\n",
    "<br>Therefore,\n",
    "<br>\"focused\": row=$0$ to row=$128\\times10\\times60$\n",
    "<br>\"unfocused\": row=$128\\times10\\times60$ to row=$128\\times20\\times60$\n",
    "<br>\"drowsed\": row=$128\\times20\\times60$ to last row"
   ]
  },
  {
   "cell_type": "code",
   "execution_count": 3,
   "id": "37b62344",
   "metadata": {
    "execution": {
     "iopub.execute_input": "2022-09-21T06:57:17.582862Z",
     "iopub.status.busy": "2022-09-21T06:57:17.581866Z",
     "iopub.status.idle": "2022-09-21T06:57:17.586147Z",
     "shell.execute_reply": "2022-09-21T06:57:17.586637Z",
     "shell.execute_reply.started": "2022-09-21T06:35:21.349515Z"
    },
    "papermill": {
     "duration": 0.026909,
     "end_time": "2022-09-21T06:57:17.586826",
     "exception": false,
     "start_time": "2022-09-21T06:57:17.559917",
     "status": "completed"
    },
    "tags": []
   },
   "outputs": [],
   "source": [
    "data_root = '../input/eeg-data-for-mental-attention-state-detection/eeg data/EEG Data/'"
   ]
  },
  {
   "cell_type": "code",
   "execution_count": 4,
   "id": "ae7ab125",
   "metadata": {
    "execution": {
     "iopub.execute_input": "2022-09-21T06:57:17.630035Z",
     "iopub.status.busy": "2022-09-21T06:57:17.629087Z",
     "iopub.status.idle": "2022-09-21T06:57:17.648325Z",
     "shell.execute_reply": "2022-09-21T06:57:17.648942Z",
     "shell.execute_reply.started": "2022-09-21T06:35:22.246969Z"
    },
    "papermill": {
     "duration": 0.04232,
     "end_time": "2022-09-21T06:57:17.649140",
     "exception": false,
     "start_time": "2022-09-21T06:57:17.606820",
     "status": "completed"
    },
    "tags": []
   },
   "outputs": [],
   "source": [
    "files = os.listdir(data_root)"
   ]
  },
  {
   "cell_type": "code",
   "execution_count": 5,
   "id": "e929d0ae",
   "metadata": {
    "execution": {
     "iopub.execute_input": "2022-09-21T06:57:17.691653Z",
     "iopub.status.busy": "2022-09-21T06:57:17.690694Z",
     "iopub.status.idle": "2022-09-21T06:57:18.314348Z",
     "shell.execute_reply": "2022-09-21T06:57:18.313656Z",
     "shell.execute_reply.started": "2022-09-21T06:35:22.497150Z"
    },
    "papermill": {
     "duration": 0.645561,
     "end_time": "2022-09-21T06:57:18.314512",
     "exception": false,
     "start_time": "2022-09-21T06:57:17.668951",
     "status": "completed"
    },
    "tags": []
   },
   "outputs": [],
   "source": [
    "mat = scipy.io.loadmat(data_root + files[1])"
   ]
  },
  {
   "cell_type": "code",
   "execution_count": 6,
   "id": "9f40355e",
   "metadata": {
    "execution": {
     "iopub.execute_input": "2022-09-21T06:57:18.359752Z",
     "iopub.status.busy": "2022-09-21T06:57:18.359053Z",
     "iopub.status.idle": "2022-09-21T06:57:18.367727Z",
     "shell.execute_reply": "2022-09-21T06:57:18.368322Z",
     "shell.execute_reply.started": "2022-09-21T06:35:27.592777Z"
    },
    "papermill": {
     "duration": 0.032449,
     "end_time": "2022-09-21T06:57:18.368515",
     "exception": false,
     "start_time": "2022-09-21T06:57:18.336066",
     "status": "completed"
    },
    "tags": []
   },
   "outputs": [
    {
     "data": {
      "text/plain": [
       "128"
      ]
     },
     "execution_count": 6,
     "metadata": {},
     "output_type": "execute_result"
    }
   ],
   "source": [
    "mat['o']['sampFreq'][0][0][0][0]"
   ]
  },
  {
   "cell_type": "code",
   "execution_count": 7,
   "id": "8c7eb2df",
   "metadata": {
    "execution": {
     "iopub.execute_input": "2022-09-21T06:57:18.411133Z",
     "iopub.status.busy": "2022-09-21T06:57:18.410521Z",
     "iopub.status.idle": "2022-09-21T06:57:18.418554Z",
     "shell.execute_reply": "2022-09-21T06:57:18.417911Z",
     "shell.execute_reply.started": "2022-09-21T06:35:27.790486Z"
    },
    "papermill": {
     "duration": 0.030052,
     "end_time": "2022-09-21T06:57:18.418710",
     "exception": false,
     "start_time": "2022-09-21T06:57:18.388658",
     "status": "completed"
    },
    "tags": []
   },
   "outputs": [
    {
     "data": {
      "text/plain": [
       "array([[47.,  0.,  0., ...,  0.,  0.,  0.],\n",
       "       [48.,  0.,  0., ...,  0.,  0.,  0.],\n",
       "       [49.,  0.,  0., ...,  0.,  0.,  0.],\n",
       "       ...,\n",
       "       [36.,  0.,  0., ...,  0.,  0.,  0.],\n",
       "       [37.,  0.,  0., ...,  0.,  0.,  0.],\n",
       "       [38.,  0.,  0., ...,  0.,  0.,  0.]])"
      ]
     },
     "execution_count": 7,
     "metadata": {},
     "output_type": "execute_result"
    }
   ],
   "source": [
    "data = mat['o']['data'][0, 0]\n",
    "FS = mat['o']['sampFreq'][0][0][0][0]\n",
    "\n",
    "data\n"
   ]
  },
  {
   "cell_type": "markdown",
   "id": "b4659dcc",
   "metadata": {
    "papermill": {
     "duration": 0.01988,
     "end_time": "2022-09-21T06:57:18.458878",
     "exception": false,
     "start_time": "2022-09-21T06:57:18.438998",
     "status": "completed"
    },
    "tags": []
   },
   "source": [
    "4-'EDAF3' 5-'EDF7'\n",
    "6-'EDF3' 7-'EDFC5'\n",
    "8-'EDT7' 9-'EDP7'\n",
    "10-'EDO1' 11-'EDO2'\n",
    "12-'EDP8' 13-'EDT8'\n",
    "14-'EDFC6' 15-'EDF4'\n",
    "16-'EDF8' 17-'EDAF4'"
   ]
  },
  {
   "cell_type": "code",
   "execution_count": 8,
   "id": "864b1e14",
   "metadata": {
    "execution": {
     "iopub.execute_input": "2022-09-21T06:57:18.504902Z",
     "iopub.status.busy": "2022-09-21T06:57:18.504151Z",
     "iopub.status.idle": "2022-09-21T06:57:18.506489Z",
     "shell.execute_reply": "2022-09-21T06:57:18.507006Z",
     "shell.execute_reply.started": "2022-09-21T06:35:28.993612Z"
    },
    "papermill": {
     "duration": 0.028032,
     "end_time": "2022-09-21T06:57:18.507181",
     "exception": false,
     "start_time": "2022-09-21T06:57:18.479149",
     "status": "completed"
    },
    "tags": []
   },
   "outputs": [],
   "source": [
    "channel_indices = np.array(range(3, 17))\n",
    "channel_names = ['AF3', 'F7', 'F3', 'FC5', 'T7', 'P7', 'O1', 'O2', 'P8', 'T8', 'FC6', 'F4', 'F8', 'AF4']\n",
    "channel_map = dict(zip(channel_names, channel_indices))"
   ]
  },
  {
   "cell_type": "code",
   "execution_count": 9,
   "id": "b8e77629",
   "metadata": {
    "execution": {
     "iopub.execute_input": "2022-09-21T06:57:18.551321Z",
     "iopub.status.busy": "2022-09-21T06:57:18.550636Z",
     "iopub.status.idle": "2022-09-21T06:57:18.554929Z",
     "shell.execute_reply": "2022-09-21T06:57:18.555498Z",
     "shell.execute_reply.started": "2022-09-21T06:35:34.501336Z"
    },
    "papermill": {
     "duration": 0.027675,
     "end_time": "2022-09-21T06:57:18.555699",
     "exception": false,
     "start_time": "2022-09-21T06:57:18.528024",
     "status": "completed"
    },
    "tags": []
   },
   "outputs": [],
   "source": [
    "df = pd.DataFrame.from_dict(data)"
   ]
  },
  {
   "cell_type": "code",
   "execution_count": 10,
   "id": "fe2f15aa",
   "metadata": {
    "execution": {
     "iopub.execute_input": "2022-09-21T06:57:18.598356Z",
     "iopub.status.busy": "2022-09-21T06:57:18.597700Z",
     "iopub.status.idle": "2022-09-21T06:57:18.788828Z",
     "shell.execute_reply": "2022-09-21T06:57:18.788150Z",
     "shell.execute_reply.started": "2022-09-21T06:35:34.789359Z"
    },
    "papermill": {
     "duration": 0.213299,
     "end_time": "2022-09-21T06:57:18.788974",
     "exception": false,
     "start_time": "2022-09-21T06:57:18.575675",
     "status": "completed"
    },
    "tags": []
   },
   "outputs": [
    {
     "data": {
      "text/plain": [
       "[<matplotlib.lines.Line2D at 0x7ff28b502c10>]"
      ]
     },
     "execution_count": 10,
     "metadata": {},
     "output_type": "execute_result"
    },
    {
     "data": {
      "image/png": "[encoded data removed]",
      "text/plain": [
       "<Figure size 432x288 with 1 Axes>"
      ]
     },
     "metadata": {
      "needs_background": "light"
     },
     "output_type": "display_data"
    }
   ],
   "source": [
    "\n",
    "channel = data[:10000, 19]\n",
    "plt.plot(channel)"
   ]
  },
  {
   "cell_type": "code",
   "execution_count": 11,
   "id": "c8e3ba17",
   "metadata": {
    "execution": {
     "iopub.execute_input": "2022-09-21T06:57:18.837909Z",
     "iopub.status.busy": "2022-09-21T06:57:18.837144Z",
     "iopub.status.idle": "2022-09-21T06:57:18.841962Z",
     "shell.execute_reply": "2022-09-21T06:57:18.841316Z",
     "shell.execute_reply.started": "2022-09-21T06:35:36.030141Z"
    },
    "papermill": {
     "duration": 0.030975,
     "end_time": "2022-09-21T06:57:18.842118",
     "exception": false,
     "start_time": "2022-09-21T06:57:18.811143",
     "status": "completed"
    },
    "tags": []
   },
   "outputs": [
    {
     "data": {
      "text/plain": [
       "(363232, 25)"
      ]
     },
     "execution_count": 11,
     "metadata": {},
     "output_type": "execute_result"
    }
   ],
   "source": [
    "data.shape"
   ]
  },
  {
   "cell_type": "code",
   "execution_count": 12,
   "id": "44e0ceb8",
   "metadata": {
    "execution": {
     "iopub.execute_input": "2022-09-21T06:57:18.890316Z",
     "iopub.status.busy": "2022-09-21T06:57:18.889676Z",
     "iopub.status.idle": "2022-09-21T06:57:18.895158Z",
     "shell.execute_reply": "2022-09-21T06:57:18.894633Z",
     "shell.execute_reply.started": "2022-09-21T06:35:37.074639Z"
    },
    "papermill": {
     "duration": 0.029948,
     "end_time": "2022-09-21T06:57:18.895305",
     "exception": false,
     "start_time": "2022-09-21T06:57:18.865357",
     "status": "completed"
    },
    "tags": []
   },
   "outputs": [],
   "source": [
    "states = {\n",
    " 'focused': data[:FS * 10 * 60, :],\n",
    "  'unfocused': data[FS * 10 * 60:FS * 20 * 60, :],\n",
    "  'drowsy': data[FS * 30 * 60:, :],\n",
    "}"
   ]
  },
  {
   "cell_type": "code",
   "execution_count": 13,
   "id": "4730c546",
   "metadata": {
    "execution": {
     "iopub.execute_input": "2022-09-21T06:57:18.943723Z",
     "iopub.status.busy": "2022-09-21T06:57:18.943006Z",
     "iopub.status.idle": "2022-09-21T06:57:18.946345Z",
     "shell.execute_reply": "2022-09-21T06:57:18.945815Z",
     "shell.execute_reply.started": "2022-09-21T06:35:39.013729Z"
    },
    "papermill": {
     "duration": 0.02997,
     "end_time": "2022-09-21T06:57:18.946499",
     "exception": false,
     "start_time": "2022-09-21T06:57:18.916529",
     "status": "completed"
    },
    "tags": []
   },
   "outputs": [],
   "source": [
    "bands = {'alpha': (8, 13), 'delta': (0.5, 4), 'beta': (13, 30), 'gamma': (30, np.inf)}\n",
    "\n"
   ]
  },
  {
   "cell_type": "code",
   "execution_count": 14,
   "id": "c4773bb0",
   "metadata": {
    "execution": {
     "iopub.execute_input": "2022-09-21T06:57:18.996771Z",
     "iopub.status.busy": "2022-09-21T06:57:18.996037Z",
     "iopub.status.idle": "2022-09-21T06:57:18.999521Z",
     "shell.execute_reply": "2022-09-21T06:57:18.998992Z",
     "shell.execute_reply.started": "2022-09-21T06:35:40.018305Z"
    },
    "papermill": {
     "duration": 0.031768,
     "end_time": "2022-09-21T06:57:18.999742",
     "exception": false,
     "start_time": "2022-09-21T06:57:18.967974",
     "status": "completed"
    },
    "tags": []
   },
   "outputs": [],
   "source": [
    "def get_data(filename):\n",
    "    mat = scipy.io.loadmat(os.path.join(data_root, filename))\n",
    "    data = mat['o']['data'][0, 0]\n",
    "    FS = mat['o']['sampFreq'][0][0][0][0]\n",
    "\n",
    "    states = {\n",
    "     'focused': data[:FS * 10 * 60, :],\n",
    "      'unfocused': data[FS * 10 * 60:FS * 20 * 60, :],\n",
    "      'drowsy': data[FS * 30 * 60:, :],\n",
    "    }\n",
    "    return states"
   ]
  },
  {
   "cell_type": "code",
   "execution_count": 15,
   "id": "f6b88b64",
   "metadata": {
    "execution": {
     "iopub.execute_input": "2022-09-21T06:57:19.047103Z",
     "iopub.status.busy": "2022-09-21T06:57:19.046415Z",
     "iopub.status.idle": "2022-09-21T06:57:19.052113Z",
     "shell.execute_reply": "2022-09-21T06:57:19.052647Z",
     "shell.execute_reply.started": "2022-09-21T06:42:09.202846Z"
    },
    "papermill": {
     "duration": 0.031684,
     "end_time": "2022-09-21T06:57:19.052842",
     "exception": false,
     "start_time": "2022-09-21T06:57:19.021158",
     "status": "completed"
    },
    "tags": []
   },
   "outputs": [],
   "source": [
    "def get_powers(channel, FS=128):\n",
    "    channel = channel - channel.mean()\n",
    "    freq, psd = signal.periodogram(channel, fs=FS, nfft=256)\n",
    "\n",
    "    powers = {}\n",
    "    for band_name, band_limits in bands.items():\n",
    "        low, high = band_limits\n",
    "        powers[band_name] = psd[(freq >= low) & (freq < high)].mean()\n",
    "    return powers"
   ]
  },
  {
   "cell_type": "markdown",
   "id": "56b6c6d5",
   "metadata": {
    "papermill": {
     "duration": 0.021879,
     "end_time": "2022-09-21T06:57:19.097128",
     "exception": false,
     "start_time": "2022-09-21T06:57:19.075249",
     "status": "completed"
    },
    "tags": []
   },
   "source": []
  },
  {
   "cell_type": "code",
   "execution_count": 16,
   "id": "76fcbf43",
   "metadata": {
    "execution": {
     "iopub.execute_input": "2022-09-21T06:57:19.144468Z",
     "iopub.status.busy": "2022-09-21T06:57:19.143590Z",
     "iopub.status.idle": "2022-09-21T06:57:19.147961Z",
     "shell.execute_reply": "2022-09-21T06:57:19.148502Z",
     "shell.execute_reply.started": "2022-09-21T06:42:10.929183Z"
    },
    "papermill": {
     "duration": 0.030267,
     "end_time": "2022-09-21T06:57:19.148716",
     "exception": false,
     "start_time": "2022-09-21T06:57:19.118449",
     "status": "completed"
    },
    "tags": []
   },
   "outputs": [],
   "source": [
    "subjects = [5, 10, 20, 25, 33]"
   ]
  },
  {
   "cell_type": "code",
   "execution_count": 17,
   "id": "f1f22e5b",
   "metadata": {
    "execution": {
     "iopub.execute_input": "2022-09-21T06:57:19.194659Z",
     "iopub.status.busy": "2022-09-21T06:57:19.193961Z",
     "iopub.status.idle": "2022-09-21T06:57:22.553260Z",
     "shell.execute_reply": "2022-09-21T06:57:22.552116Z",
     "shell.execute_reply.started": "2022-09-21T06:43:59.068365Z"
    },
    "papermill": {
     "duration": 3.3834,
     "end_time": "2022-09-21T06:57:22.553573",
     "exception": false,
     "start_time": "2022-09-21T06:57:19.170173",
     "status": "completed"
    },
    "tags": []
   },
   "outputs": [],
   "source": [
    "\n",
    "rows_list = []\n",
    "for subject_idx in subjects:\n",
    "    states = get_data(f\"eeg_record{subject_idx}.mat\")\n",
    "    for ch_name, ch_idx in channel_map.items():\n",
    "        for state, eeg in states.items():\n",
    "            powers = get_powers(eeg[:, ch_idx])\n",
    "            powers['state'] = state\n",
    "            powers['channel'] = ch_name\n",
    "            powers['subject'] = f\"subject_{subject_idx}\"\n",
    "            rows_list.append(powers)"
   ]
  },
  {
   "cell_type": "code",
   "execution_count": 18,
   "id": "b105f76f",
   "metadata": {
    "execution": {
     "iopub.execute_input": "2022-09-21T06:57:22.611223Z",
     "iopub.status.busy": "2022-09-21T06:57:22.609030Z",
     "iopub.status.idle": "2022-09-21T06:57:22.613971Z",
     "shell.execute_reply": "2022-09-21T06:57:22.614778Z",
     "shell.execute_reply.started": "2022-09-21T06:44:02.193110Z"
    },
    "papermill": {
     "duration": 0.036722,
     "end_time": "2022-09-21T06:57:22.615024",
     "exception": false,
     "start_time": "2022-09-21T06:57:22.578302",
     "status": "completed"
    },
    "tags": []
   },
   "outputs": [],
   "source": [
    "df = pd.DataFrame.from_dict(rows_list)"
   ]
  },
  {
   "cell_type": "code",
   "execution_count": 19,
   "id": "1aa287f9",
   "metadata": {
    "execution": {
     "iopub.execute_input": "2022-09-21T06:57:22.665319Z",
     "iopub.status.busy": "2022-09-21T06:57:22.664528Z",
     "iopub.status.idle": "2022-09-21T06:57:22.688390Z",
     "shell.execute_reply": "2022-09-21T06:57:22.688950Z",
     "shell.execute_reply.started": "2022-09-21T06:44:14.096047Z"
    },
    "papermill": {
     "duration": 0.049426,
     "end_time": "2022-09-21T06:57:22.689131",
     "exception": false,
     "start_time": "2022-09-21T06:57:22.639705",
     "status": "completed"
    },
    "tags": []
   },
   "outputs": [
    {
     "data": {
      "text/html": [
       "<div>\n",
       "<style scoped>\n",
       "    .dataframe tbody tr th:only-of-type {\n",
       "        vertical-align: middle;\n",
       "    }\n",
       "\n",
       "    .dataframe tbody tr th {\n",
       "        vertical-align: top;\n",
       "    }\n",
       "\n",
       "    .dataframe thead th {\n",
       "        text-align: right;\n",
       "    }\n",
       "</style>\n",
       "<table border=\"1\" class=\"dataframe\">\n",
       "  <thead>\n",
       "    <tr style=\"text-align: right;\">\n",
       "      <th></th>\n",
       "      <th>alpha</th>\n",
       "      <th>delta</th>\n",
       "      <th>beta</th>\n",
       "      <th>gamma</th>\n",
       "      <th>state</th>\n",
       "      <th>channel</th>\n",
       "      <th>subject</th>\n",
       "    </tr>\n",
       "  </thead>\n",
       "  <tbody>\n",
       "    <tr>\n",
       "      <th>0</th>\n",
       "      <td>0.109188</td>\n",
       "      <td>0.121637</td>\n",
       "      <td>0.179848</td>\n",
       "      <td>0.041091</td>\n",
       "      <td>focused</td>\n",
       "      <td>AF3</td>\n",
       "      <td>subject_5</td>\n",
       "    </tr>\n",
       "    <tr>\n",
       "      <th>1</th>\n",
       "      <td>0.083879</td>\n",
       "      <td>0.078891</td>\n",
       "      <td>0.074366</td>\n",
       "      <td>0.038357</td>\n",
       "      <td>unfocused</td>\n",
       "      <td>AF3</td>\n",
       "      <td>subject_5</td>\n",
       "    </tr>\n",
       "    <tr>\n",
       "      <th>2</th>\n",
       "      <td>0.035458</td>\n",
       "      <td>0.109983</td>\n",
       "      <td>0.039020</td>\n",
       "      <td>0.016242</td>\n",
       "      <td>drowsy</td>\n",
       "      <td>AF3</td>\n",
       "      <td>subject_5</td>\n",
       "    </tr>\n",
       "    <tr>\n",
       "      <th>3</th>\n",
       "      <td>1.927219</td>\n",
       "      <td>36.255531</td>\n",
       "      <td>0.892434</td>\n",
       "      <td>0.213194</td>\n",
       "      <td>focused</td>\n",
       "      <td>F7</td>\n",
       "      <td>subject_5</td>\n",
       "    </tr>\n",
       "    <tr>\n",
       "      <th>4</th>\n",
       "      <td>1.758539</td>\n",
       "      <td>36.506171</td>\n",
       "      <td>0.590528</td>\n",
       "      <td>0.163570</td>\n",
       "      <td>unfocused</td>\n",
       "      <td>F7</td>\n",
       "      <td>subject_5</td>\n",
       "    </tr>\n",
       "  </tbody>\n",
       "</table>\n",
       "</div>"
      ],
      "text/plain": [
       "      alpha      delta      beta     gamma      state channel    subject\n",
       "0  0.109188   0.121637  0.179848  0.041091    focused     AF3  subject_5\n",
       "1  0.083879   0.078891  0.074366  0.038357  unfocused     AF3  subject_5\n",
       "2  0.035458   0.109983  0.039020  0.016242     drowsy     AF3  subject_5\n",
       "3  1.927219  36.255531  0.892434  0.213194    focused      F7  subject_5\n",
       "4  1.758539  36.506171  0.590528  0.163570  unfocused      F7  subject_5"
      ]
     },
     "execution_count": 19,
     "metadata": {},
     "output_type": "execute_result"
    }
   ],
   "source": [
    "df.head()"
   ]
  },
  {
   "cell_type": "code",
   "execution_count": 20,
   "id": "3b0b0bdb",
   "metadata": {
    "execution": {
     "iopub.execute_input": "2022-09-21T06:57:22.742824Z",
     "iopub.status.busy": "2022-09-21T06:57:22.742133Z",
     "iopub.status.idle": "2022-09-21T06:57:22.766353Z",
     "shell.execute_reply": "2022-09-21T06:57:22.765774Z",
     "shell.execute_reply.started": "2022-09-21T06:44:02.987431Z"
    },
    "papermill": {
     "duration": 0.054452,
     "end_time": "2022-09-21T06:57:22.766499",
     "exception": false,
     "start_time": "2022-09-21T06:57:22.712047",
     "status": "completed"
    },
    "tags": []
   },
   "outputs": [
    {
     "data": {
      "text/html": [
       "<div>\n",
       "<style scoped>\n",
       "    .dataframe tbody tr th:only-of-type {\n",
       "        vertical-align: middle;\n",
       "    }\n",
       "\n",
       "    .dataframe tbody tr th {\n",
       "        vertical-align: top;\n",
       "    }\n",
       "\n",
       "    .dataframe thead th {\n",
       "        text-align: right;\n",
       "    }\n",
       "</style>\n",
       "<table border=\"1\" class=\"dataframe\">\n",
       "  <thead>\n",
       "    <tr style=\"text-align: right;\">\n",
       "      <th></th>\n",
       "      <th>alpha</th>\n",
       "      <th>delta</th>\n",
       "      <th>beta</th>\n",
       "      <th>gamma</th>\n",
       "    </tr>\n",
       "  </thead>\n",
       "  <tbody>\n",
       "    <tr>\n",
       "      <th>count</th>\n",
       "      <td>210.000000</td>\n",
       "      <td>210.000000</td>\n",
       "      <td>210.000000</td>\n",
       "      <td>210.000000</td>\n",
       "    </tr>\n",
       "    <tr>\n",
       "      <th>mean</th>\n",
       "      <td>3.893512</td>\n",
       "      <td>74.534303</td>\n",
       "      <td>0.639226</td>\n",
       "      <td>0.115020</td>\n",
       "    </tr>\n",
       "    <tr>\n",
       "      <th>std</th>\n",
       "      <td>9.307750</td>\n",
       "      <td>262.369517</td>\n",
       "      <td>0.860707</td>\n",
       "      <td>0.182259</td>\n",
       "    </tr>\n",
       "    <tr>\n",
       "      <th>min</th>\n",
       "      <td>0.000000</td>\n",
       "      <td>0.000000</td>\n",
       "      <td>0.000000</td>\n",
       "      <td>0.000000</td>\n",
       "    </tr>\n",
       "    <tr>\n",
       "      <th>25%</th>\n",
       "      <td>0.072074</td>\n",
       "      <td>0.129839</td>\n",
       "      <td>0.058051</td>\n",
       "      <td>0.026212</td>\n",
       "    </tr>\n",
       "    <tr>\n",
       "      <th>50%</th>\n",
       "      <td>1.274391</td>\n",
       "      <td>5.959509</td>\n",
       "      <td>0.356482</td>\n",
       "      <td>0.076365</td>\n",
       "    </tr>\n",
       "    <tr>\n",
       "      <th>75%</th>\n",
       "      <td>3.644501</td>\n",
       "      <td>48.477687</td>\n",
       "      <td>0.956902</td>\n",
       "      <td>0.150123</td>\n",
       "    </tr>\n",
       "    <tr>\n",
       "      <th>max</th>\n",
       "      <td>71.833644</td>\n",
       "      <td>2933.818633</td>\n",
       "      <td>7.587283</td>\n",
       "      <td>2.111892</td>\n",
       "    </tr>\n",
       "  </tbody>\n",
       "</table>\n",
       "</div>"
      ],
      "text/plain": [
       "            alpha        delta        beta       gamma\n",
       "count  210.000000   210.000000  210.000000  210.000000\n",
       "mean     3.893512    74.534303    0.639226    0.115020\n",
       "std      9.307750   262.369517    0.860707    0.182259\n",
       "min      0.000000     0.000000    0.000000    0.000000\n",
       "25%      0.072074     0.129839    0.058051    0.026212\n",
       "50%      1.274391     5.959509    0.356482    0.076365\n",
       "75%      3.644501    48.477687    0.956902    0.150123\n",
       "max     71.833644  2933.818633    7.587283    2.111892"
      ]
     },
     "execution_count": 20,
     "metadata": {},
     "output_type": "execute_result"
    }
   ],
   "source": [
    "df.describe()"
   ]
  },
  {
   "cell_type": "code",
   "execution_count": 21,
   "id": "4f224cbe",
   "metadata": {
    "execution": {
     "iopub.execute_input": "2022-09-21T06:57:22.821234Z",
     "iopub.status.busy": "2022-09-21T06:57:22.820485Z",
     "iopub.status.idle": "2022-09-21T06:57:22.829234Z",
     "shell.execute_reply": "2022-09-21T06:57:22.829806Z",
     "shell.execute_reply.started": "2022-09-21T06:47:39.274802Z"
    },
    "papermill": {
     "duration": 0.038187,
     "end_time": "2022-09-21T06:57:22.829991",
     "exception": false,
     "start_time": "2022-09-21T06:57:22.791804",
     "status": "completed"
    },
    "tags": []
   },
   "outputs": [],
   "source": [
    "df.to_csv(\"eeg_powers.csv\")"
   ]
  },
  {
   "cell_type": "code",
   "execution_count": 22,
   "id": "9bad7f79",
   "metadata": {
    "execution": {
     "iopub.execute_input": "2022-09-21T06:57:22.878705Z",
     "iopub.status.busy": "2022-09-21T06:57:22.877735Z",
     "iopub.status.idle": "2022-09-21T06:57:22.885104Z",
     "shell.execute_reply": "2022-09-21T06:57:22.885694Z",
     "shell.execute_reply.started": "2022-09-21T06:47:58.895497Z"
    },
    "papermill": {
     "duration": 0.033584,
     "end_time": "2022-09-21T06:57:22.885894",
     "exception": false,
     "start_time": "2022-09-21T06:57:22.852310",
     "status": "completed"
    },
    "tags": []
   },
   "outputs": [
    {
     "name": "stdout",
     "output_type": "stream",
     "text": [
      "{1: [3, 4, 5, 6, 7], 2: [10, 11, 12, 13, 14], 3: [17, 18, 19, 20, 21], 4: [24, 25, 26, 27, 28], 5: [31, 32, 33, 34]}\n"
     ]
    }
   ],
   "source": [
    "samp_freq = 128 \n",
    "total_subjects = 5\n",
    "subject_map = {}\n",
    "for s in range(1, total_subjects+1):\n",
    "    a =  int(7*(s-1)) + 3\n",
    "    if s!=5: \n",
    "        b = a + 5\n",
    "    else:\n",
    "        b = a + 4 #subject5 has 4 trials\n",
    "    subject_map[s] = [i for i in range(a, b)]\n",
    "print(subject_map)"
   ]
  }
 ],
 "metadata": {
  "kernelspec": {
   "display_name": "Python 3",
   "language": "python",
   "name": "python3"
  },
  "language_info": {
   "codemirror_mode": {
    "name": "ipython",
    "version": 3
   },
   "file_extension": ".py",
   "mimetype": "text/x-python",
   "name": "python",
   "nbconvert_exporter": "python",
   "pygments_lexer": "ipython3",
   "version": "3.7.10"
  },
  "papermill": {
   "default_parameters": {},
   "duration": 15.497621,
   "end_time": "2022-09-21T06:57:23.721765",
   "environment_variables": {},
   "exception": null,
   "input_path": "__notebook__.ipynb",
   "output_path": "__notebook__.ipynb",
   "parameters": {},
   "start_time": "2022-09-21T06:57:08.224144",
   "version": "2.3.3"
  }
 },
 "nbformat": 4,
 "nbformat_minor": 5
}
