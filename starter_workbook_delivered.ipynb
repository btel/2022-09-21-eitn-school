{
 "cells": [
  {
   "cell_type": "markdown",
   "id": "045578a9-2b2d-4781-b4eb-b89ab33c5230",
   "metadata": {},
   "source": [
    "## Intro\n"
   ]
  },
  {
   "cell_type": "markdown",
   "id": "5e862480-ec4d-426f-b536-f3900c44a09b",
   "metadata": {},
   "source": [
    "It's not a step-by-step introduction to Python programming, check out Software Carpentry lessons and join one of their workshops if you need it: https://swcarpentry.github.io/python-novice-inflammation/, but:\n",
    "\n",
    "\n",
    "* Python is meant to resemble a human language\n",
    "* you can go long way without knowing the details of Python syntax,\n",
    "* just load some data and start playing with it\n",
    "* you can start to use Python to replace your excel sheets or statistical package or create simple graphs to share with colleagues\n",
    "* you can also use python as a programmable calculator"
   ]
  },
  {
   "cell_type": "markdown",
   "id": "3b06817c-f5a3-4940-b0a1-15e454f4712e",
   "metadata": {},
   "source": [
    "## Using Jupyter lab\n",
    "\n",
    "* moving around\n",
    "* editing mode\n",
    "* executing cells\n",
    "* getting help\n",
    "* keyboard shorcuts: \n",
    "  - Enter (to enter edito mode), \n",
    "  - Shit-Enter (Run), \n",
    "  - Esc (enter command mode), \n",
    "  - M (markdown, in command mode), \n",
    "  - X (remove cell, in command mode)\n",
    "  - b (command mode, insert new cell below)"
   ]
  },
  {
   "cell_type": "markdown",
   "id": "0412ffe0-b34c-4c8c-9071-50ed8e7613f7",
   "metadata": {},
   "source": [
    "## Importing and exploring data"
   ]
  },
  {
   "cell_type": "markdown",
   "id": "fbb1e72b-1b9b-4f65-84ae-e48de96458de",
   "metadata": {},
   "source": [
    "* importing libraries\n",
    "* pandas\n",
    "* `read_csv`, `describe`, `head`"
   ]
  },
  {
   "cell_type": "code",
   "execution_count": 1,
   "id": "64eef315-ef2a-4701-824c-c99649e8a394",
   "metadata": {},
   "outputs": [],
   "source": [
    "import pandas as pd"
   ]
  },
  {
   "cell_type": "code",
   "execution_count": 2,
   "id": "de719267-cc60-49d2-902d-f1ca8b34609f",
   "metadata": {},
   "outputs": [],
   "source": [
    "# url = 'https://raw.githubusercontent.com/btel/2022-09-21-eitn-school/main/eeg_powers.csv'\n",
    "# url = 'https://bit.ly/3BTE0A1'\n",
    "url ='eeg_powers.csv'\n",
    "df = pd.read_csv(url, index_col=0)"
   ]
  },
  {
   "cell_type": "code",
   "execution_count": 3,
   "id": "c4390bb6-9858-493a-b024-52b927a48742",
   "metadata": {},
   "outputs": [],
   "source": [
    "df.to_csv('eeg_data_temp.csv', index=True)"
   ]
  },
  {
   "cell_type": "markdown",
   "id": "ac626303-c270-488c-a857-0c8d260c5509",
   "metadata": {},
   "source": [
    "Definitions of EEG bands:\n",
    "\n",
    "* delta 0.5 -- 4 Hz\n",
    "* alpha 8 -- 13 Hz,  \n",
    "* beta 13 -- 30 Hz, \n",
    "* gamma: > 30 Hz\n",
    "\n",
    "For details, see my notebook with feature extraction: https://www.kaggle.com/btelenczuk/eeg-extract-features\n"
   ]
  },
  {
   "cell_type": "code",
   "execution_count": 4,
   "id": "0fb27ad0-3bcb-4677-8829-d352afce83f8",
   "metadata": {},
   "outputs": [
    {
     "data": {
      "text/html": [
       "<div>\n",
       "<style scoped>\n",
       "    .dataframe tbody tr th:only-of-type {\n",
       "        vertical-align: middle;\n",
       "    }\n",
       "\n",
       "    .dataframe tbody tr th {\n",
       "        vertical-align: top;\n",
       "    }\n",
       "\n",
       "    .dataframe thead th {\n",
       "        text-align: right;\n",
       "    }\n",
       "</style>\n",
       "<table border=\"1\" class=\"dataframe\">\n",
       "  <thead>\n",
       "    <tr style=\"text-align: right;\">\n",
       "      <th></th>\n",
       "      <th>alpha</th>\n",
       "      <th>delta</th>\n",
       "      <th>beta</th>\n",
       "      <th>gamma</th>\n",
       "      <th>state</th>\n",
       "      <th>channel</th>\n",
       "      <th>subject</th>\n",
       "    </tr>\n",
       "  </thead>\n",
       "  <tbody>\n",
       "    <tr>\n",
       "      <th>0</th>\n",
       "      <td>0.109188</td>\n",
       "      <td>0.121637</td>\n",
       "      <td>0.179848</td>\n",
       "      <td>0.041091</td>\n",
       "      <td>focused</td>\n",
       "      <td>AF3</td>\n",
       "      <td>subject_5</td>\n",
       "    </tr>\n",
       "    <tr>\n",
       "      <th>1</th>\n",
       "      <td>0.083879</td>\n",
       "      <td>0.078891</td>\n",
       "      <td>0.074366</td>\n",
       "      <td>0.038357</td>\n",
       "      <td>unfocused</td>\n",
       "      <td>AF3</td>\n",
       "      <td>subject_5</td>\n",
       "    </tr>\n",
       "    <tr>\n",
       "      <th>2</th>\n",
       "      <td>0.035458</td>\n",
       "      <td>0.109983</td>\n",
       "      <td>0.039020</td>\n",
       "      <td>0.016242</td>\n",
       "      <td>drowsy</td>\n",
       "      <td>AF3</td>\n",
       "      <td>subject_5</td>\n",
       "    </tr>\n",
       "    <tr>\n",
       "      <th>3</th>\n",
       "      <td>1.927219</td>\n",
       "      <td>36.255531</td>\n",
       "      <td>0.892434</td>\n",
       "      <td>0.213194</td>\n",
       "      <td>focused</td>\n",
       "      <td>F7</td>\n",
       "      <td>subject_5</td>\n",
       "    </tr>\n",
       "    <tr>\n",
       "      <th>4</th>\n",
       "      <td>1.758539</td>\n",
       "      <td>36.506171</td>\n",
       "      <td>0.590528</td>\n",
       "      <td>0.163570</td>\n",
       "      <td>unfocused</td>\n",
       "      <td>F7</td>\n",
       "      <td>subject_5</td>\n",
       "    </tr>\n",
       "  </tbody>\n",
       "</table>\n",
       "</div>"
      ],
      "text/plain": [
       "      alpha      delta      beta     gamma      state channel    subject\n",
       "0  0.109188   0.121637  0.179848  0.041091    focused     AF3  subject_5\n",
       "1  0.083879   0.078891  0.074366  0.038357  unfocused     AF3  subject_5\n",
       "2  0.035458   0.109983  0.039020  0.016242     drowsy     AF3  subject_5\n",
       "3  1.927219  36.255531  0.892434  0.213194    focused      F7  subject_5\n",
       "4  1.758539  36.506171  0.590528  0.163570  unfocused      F7  subject_5"
      ]
     },
     "execution_count": 4,
     "metadata": {},
     "output_type": "execute_result"
    }
   ],
   "source": [
    "df.head()"
   ]
  },
  {
   "cell_type": "code",
   "execution_count": 5,
   "id": "def2a646-3865-459f-80ad-1fd1dd53ce11",
   "metadata": {},
   "outputs": [
    {
     "data": {
      "text/html": [
       "<div>\n",
       "<style scoped>\n",
       "    .dataframe tbody tr th:only-of-type {\n",
       "        vertical-align: middle;\n",
       "    }\n",
       "\n",
       "    .dataframe tbody tr th {\n",
       "        vertical-align: top;\n",
       "    }\n",
       "\n",
       "    .dataframe thead th {\n",
       "        text-align: right;\n",
       "    }\n",
       "</style>\n",
       "<table border=\"1\" class=\"dataframe\">\n",
       "  <thead>\n",
       "    <tr style=\"text-align: right;\">\n",
       "      <th></th>\n",
       "      <th>alpha</th>\n",
       "      <th>delta</th>\n",
       "      <th>beta</th>\n",
       "      <th>gamma</th>\n",
       "    </tr>\n",
       "  </thead>\n",
       "  <tbody>\n",
       "    <tr>\n",
       "      <th>count</th>\n",
       "      <td>210.000000</td>\n",
       "      <td>210.000000</td>\n",
       "      <td>210.000000</td>\n",
       "      <td>210.000000</td>\n",
       "    </tr>\n",
       "    <tr>\n",
       "      <th>mean</th>\n",
       "      <td>3.893512</td>\n",
       "      <td>74.534303</td>\n",
       "      <td>0.639226</td>\n",
       "      <td>0.115020</td>\n",
       "    </tr>\n",
       "    <tr>\n",
       "      <th>std</th>\n",
       "      <td>9.307750</td>\n",
       "      <td>262.369517</td>\n",
       "      <td>0.860707</td>\n",
       "      <td>0.182259</td>\n",
       "    </tr>\n",
       "    <tr>\n",
       "      <th>min</th>\n",
       "      <td>0.000000</td>\n",
       "      <td>0.000000</td>\n",
       "      <td>0.000000</td>\n",
       "      <td>0.000000</td>\n",
       "    </tr>\n",
       "    <tr>\n",
       "      <th>25%</th>\n",
       "      <td>0.072074</td>\n",
       "      <td>0.129839</td>\n",
       "      <td>0.058051</td>\n",
       "      <td>0.026212</td>\n",
       "    </tr>\n",
       "    <tr>\n",
       "      <th>50%</th>\n",
       "      <td>1.274391</td>\n",
       "      <td>5.959509</td>\n",
       "      <td>0.356482</td>\n",
       "      <td>0.076365</td>\n",
       "    </tr>\n",
       "    <tr>\n",
       "      <th>75%</th>\n",
       "      <td>3.644501</td>\n",
       "      <td>48.477687</td>\n",
       "      <td>0.956902</td>\n",
       "      <td>0.150123</td>\n",
       "    </tr>\n",
       "    <tr>\n",
       "      <th>max</th>\n",
       "      <td>71.833644</td>\n",
       "      <td>2933.818633</td>\n",
       "      <td>7.587283</td>\n",
       "      <td>2.111892</td>\n",
       "    </tr>\n",
       "  </tbody>\n",
       "</table>\n",
       "</div>"
      ],
      "text/plain": [
       "            alpha        delta        beta       gamma\n",
       "count  210.000000   210.000000  210.000000  210.000000\n",
       "mean     3.893512    74.534303    0.639226    0.115020\n",
       "std      9.307750   262.369517    0.860707    0.182259\n",
       "min      0.000000     0.000000    0.000000    0.000000\n",
       "25%      0.072074     0.129839    0.058051    0.026212\n",
       "50%      1.274391     5.959509    0.356482    0.076365\n",
       "75%      3.644501    48.477687    0.956902    0.150123\n",
       "max     71.833644  2933.818633    7.587283    2.111892"
      ]
     },
     "execution_count": 5,
     "metadata": {},
     "output_type": "execute_result"
    }
   ],
   "source": [
    "df.describe()"
   ]
  },
  {
   "cell_type": "markdown",
   "id": "f6d1a1a6-e5a1-4060-b895-d41acb65212a",
   "metadata": {},
   "source": [
    "## Working with categorical data"
   ]
  },
  {
   "cell_type": "code",
   "execution_count": 6,
   "id": "fc7bc1b4-5095-4544-b11e-91c48f4d5472",
   "metadata": {},
   "outputs": [
    {
     "data": {
      "text/plain": [
       "array(['focused', 'unfocused', 'drowsy'], dtype=object)"
      ]
     },
     "execution_count": 6,
     "metadata": {},
     "output_type": "execute_result"
    }
   ],
   "source": [
    "df['state'].unique()"
   ]
  },
  {
   "cell_type": "code",
   "execution_count": 7,
   "id": "35be3ac3-68d2-4adc-bf89-f98f195ba5c1",
   "metadata": {},
   "outputs": [
    {
     "data": {
      "text/plain": [
       "unfocused    70\n",
       "drowsy       70\n",
       "focused      70\n",
       "Name: state, dtype: int64"
      ]
     },
     "execution_count": 7,
     "metadata": {},
     "output_type": "execute_result"
    }
   ],
   "source": [
    "df['state'].value_counts()"
   ]
  },
  {
   "cell_type": "code",
   "execution_count": 8,
   "id": "a4e6725b-0366-4b84-97bc-d4fb0b4fd22e",
   "metadata": {},
   "outputs": [
    {
     "data": {
      "text/plain": [
       "array(['AF3', 'F7', 'F3', 'FC5', 'T7', 'P7', 'O1', 'O2', 'P8', 'T8',\n",
       "       'FC6', 'F4', 'F8', 'AF4'], dtype=object)"
      ]
     },
     "execution_count": 8,
     "metadata": {},
     "output_type": "execute_result"
    }
   ],
   "source": [
    "df['channel'].unique()"
   ]
  },
  {
   "cell_type": "code",
   "execution_count": 9,
   "id": "68f2c397-094b-4c54-8d83-680e0fb31503",
   "metadata": {},
   "outputs": [
    {
     "data": {
      "text/plain": [
       "14"
      ]
     },
     "execution_count": 9,
     "metadata": {},
     "output_type": "execute_result"
    }
   ],
   "source": [
    "df['channel'].nunique()"
   ]
  },
  {
   "cell_type": "code",
   "execution_count": 10,
   "id": "b7f39fd9-73a7-4190-8a6b-2729c9cb0336",
   "metadata": {},
   "outputs": [
    {
     "data": {
      "text/plain": [
       "5"
      ]
     },
     "execution_count": 10,
     "metadata": {},
     "output_type": "execute_result"
    }
   ],
   "source": [
    "df['subject'].nunique()"
   ]
  },
  {
   "cell_type": "markdown",
   "id": "328fb1d3-b692-46b9-8786-b4fa45d81509",
   "metadata": {},
   "source": [
    "* `unique`, `nunique`, `value_counts`"
   ]
  },
  {
   "cell_type": "markdown",
   "id": "0904a5c4-eb56-4423-b2bc-5b222f8f9ffe",
   "metadata": {},
   "source": [
    "## Plotting: distributions"
   ]
  },
  {
   "cell_type": "markdown",
   "id": "768a2469-9752-4c69-8a1e-5e7db3363b14",
   "metadata": {},
   "source": [
    "\n",
    "* pandas: `hist`"
   ]
  },
  {
   "cell_type": "code",
   "execution_count": 11,
   "id": "de2ccdce-8013-42a6-8319-0e3890ca815f",
   "metadata": {},
   "outputs": [
    {
     "data": {
      "text/plain": [
       "<AxesSubplot:>"
      ]
     },
     "execution_count": 11,
     "metadata": {},
     "output_type": "execute_result"
    },
    {
     "data": {
      "image/png": "[encoded data removed]",
      "text/plain": [
       "<Figure size 432x288 with 1 Axes>"
      ]
     },
     "metadata": {
      "needs_background": "light"
     },
     "output_type": "display_data"
    }
   ],
   "source": [
    "df['alpha'].hist()"
   ]
  },
  {
   "cell_type": "markdown",
   "id": "620689f9-1dca-4bb4-96be-811198a75844",
   "metadata": {},
   "source": [
    "## Transforming data"
   ]
  },
  {
   "cell_type": "markdown",
   "id": "2fcdb29c-3ce5-4c90-b4cf-dea6fa8c99b6",
   "metadata": {},
   "source": [
    "* **Goal**: \"normalize\" powers distribution\n",
    "* boolean indexing/masking/filtering\n",
    "* `.apply`\n",
    "* seaborn: `distplot`\n",
    "*  interpretting results, building hypotheses"
   ]
  },
  {
   "cell_type": "code",
   "execution_count": 12,
   "id": "fe17acee-8ce3-418a-aec3-2905626ee319",
   "metadata": {},
   "outputs": [],
   "source": [
    "# df['alpha'].apply('log').hist() - ERROR: ValueError: supplied range of [-inf, 4.274352944972556] is not finite"
   ]
  },
  {
   "cell_type": "code",
   "execution_count": 13,
   "id": "fa903bab-a352-447d-9bcb-aef409d026a4",
   "metadata": {},
   "outputs": [
    {
     "data": {
      "text/plain": [
       "True"
      ]
     },
     "execution_count": 13,
     "metadata": {},
     "output_type": "execute_result"
    }
   ],
   "source": [
    "(df['alpha'] == 0).any()"
   ]
  },
  {
   "cell_type": "code",
   "execution_count": 14,
   "id": "a09b9322-6abc-4894-82e9-4ecf9e286805",
   "metadata": {},
   "outputs": [
    {
     "data": {
      "text/plain": [
       "1"
      ]
     },
     "execution_count": 14,
     "metadata": {},
     "output_type": "execute_result"
    }
   ],
   "source": [
    "(df['alpha'] == 0).sum()"
   ]
  },
  {
   "cell_type": "code",
   "execution_count": 15,
   "id": "735da79b-1b01-454b-9b4c-faea93170f2d",
   "metadata": {},
   "outputs": [],
   "source": [
    "df_clean = df[df['alpha'] != 0]"
   ]
  },
  {
   "cell_type": "code",
   "execution_count": 16,
   "id": "c804484a-b3ae-4300-83d1-06c41e190fc4",
   "metadata": {},
   "outputs": [
    {
     "data": {
      "text/html": [
       "<div>\n",
       "<style scoped>\n",
       "    .dataframe tbody tr th:only-of-type {\n",
       "        vertical-align: middle;\n",
       "    }\n",
       "\n",
       "    .dataframe tbody tr th {\n",
       "        vertical-align: top;\n",
       "    }\n",
       "\n",
       "    .dataframe thead th {\n",
       "        text-align: right;\n",
       "    }\n",
       "</style>\n",
       "<table border=\"1\" class=\"dataframe\">\n",
       "  <thead>\n",
       "    <tr style=\"text-align: right;\">\n",
       "      <th></th>\n",
       "      <th>alpha</th>\n",
       "      <th>delta</th>\n",
       "      <th>beta</th>\n",
       "      <th>gamma</th>\n",
       "    </tr>\n",
       "  </thead>\n",
       "  <tbody>\n",
       "    <tr>\n",
       "      <th>count</th>\n",
       "      <td>209.000000</td>\n",
       "      <td>209.000000</td>\n",
       "      <td>209.000000</td>\n",
       "      <td>209.000000</td>\n",
       "    </tr>\n",
       "    <tr>\n",
       "      <th>mean</th>\n",
       "      <td>3.912142</td>\n",
       "      <td>74.890926</td>\n",
       "      <td>0.642284</td>\n",
       "      <td>0.115570</td>\n",
       "    </tr>\n",
       "    <tr>\n",
       "      <th>std</th>\n",
       "      <td>9.326172</td>\n",
       "      <td>262.948432</td>\n",
       "      <td>0.861629</td>\n",
       "      <td>0.182521</td>\n",
       "    </tr>\n",
       "    <tr>\n",
       "      <th>min</th>\n",
       "      <td>0.000158</td>\n",
       "      <td>0.000015</td>\n",
       "      <td>0.000148</td>\n",
       "      <td>0.000042</td>\n",
       "    </tr>\n",
       "    <tr>\n",
       "      <th>25%</th>\n",
       "      <td>0.073211</td>\n",
       "      <td>0.131024</td>\n",
       "      <td>0.058587</td>\n",
       "      <td>0.026475</td>\n",
       "    </tr>\n",
       "    <tr>\n",
       "      <th>50%</th>\n",
       "      <td>1.277136</td>\n",
       "      <td>6.034582</td>\n",
       "      <td>0.357372</td>\n",
       "      <td>0.078369</td>\n",
       "    </tr>\n",
       "    <tr>\n",
       "      <th>75%</th>\n",
       "      <td>3.646044</td>\n",
       "      <td>48.838389</td>\n",
       "      <td>0.969071</td>\n",
       "      <td>0.151109</td>\n",
       "    </tr>\n",
       "    <tr>\n",
       "      <th>max</th>\n",
       "      <td>71.833644</td>\n",
       "      <td>2933.818633</td>\n",
       "      <td>7.587283</td>\n",
       "      <td>2.111892</td>\n",
       "    </tr>\n",
       "  </tbody>\n",
       "</table>\n",
       "</div>"
      ],
      "text/plain": [
       "            alpha        delta        beta       gamma\n",
       "count  209.000000   209.000000  209.000000  209.000000\n",
       "mean     3.912142    74.890926    0.642284    0.115570\n",
       "std      9.326172   262.948432    0.861629    0.182521\n",
       "min      0.000158     0.000015    0.000148    0.000042\n",
       "25%      0.073211     0.131024    0.058587    0.026475\n",
       "50%      1.277136     6.034582    0.357372    0.078369\n",
       "75%      3.646044    48.838389    0.969071    0.151109\n",
       "max     71.833644  2933.818633    7.587283    2.111892"
      ]
     },
     "execution_count": 16,
     "metadata": {},
     "output_type": "execute_result"
    }
   ],
   "source": [
    "df_clean.describe()"
   ]
  },
  {
   "cell_type": "code",
   "execution_count": 17,
   "id": "1ed32b46-514c-409b-80ff-11069c93cf0c",
   "metadata": {},
   "outputs": [
    {
     "data": {
      "text/plain": [
       "<AxesSubplot:>"
      ]
     },
     "execution_count": 17,
     "metadata": {},
     "output_type": "execute_result"
    },
    {
     "data": {
      "image/png": "[encoded data removed]",
      "text/plain": [
       "<Figure size 432x288 with 1 Axes>"
      ]
     },
     "metadata": {
      "needs_background": "light"
     },
     "output_type": "display_data"
    }
   ],
   "source": [
    "(df_clean['alpha'].apply('log').hist())"
   ]
  },
  {
   "cell_type": "code",
   "execution_count": 18,
   "id": "6aaf4c51-45d6-4033-8cf5-7a82e159e8a3",
   "metadata": {},
   "outputs": [],
   "source": [
    "import seaborn as sns"
   ]
  },
  {
   "cell_type": "code",
   "execution_count": 19,
   "id": "63452cc2-1ffa-4180-8076-9306ca595859",
   "metadata": {},
   "outputs": [
    {
     "name": "stderr",
     "output_type": "stream",
     "text": [
      "/home/bartosz/.pyenv/versions/anaconda3-2021.05/lib/python3.8/site-packages/seaborn/distributions.py:2557: FutureWarning: `distplot` is a deprecated function and will be removed in a future version. Please adapt your code to use either `displot` (a figure-level function with similar flexibility) or `histplot` (an axes-level function for histograms).\n",
      "  warnings.warn(msg, FutureWarning)\n"
     ]
    },
    {
     "data": {
      "text/plain": [
       "<AxesSubplot:xlabel='alpha', ylabel='Density'>"
      ]
     },
     "execution_count": 19,
     "metadata": {},
     "output_type": "execute_result"
    },
    {
     "data": {
      "image/png": "[encoded data removed]",
      "text/plain": [
       "<Figure size 432x288 with 1 Axes>"
      ]
     },
     "metadata": {
      "needs_background": "light"
     },
     "output_type": "display_data"
    }
   ],
   "source": [
    "sns.distplot(a=df_clean['alpha'].apply('log'))"
   ]
  },
  {
   "cell_type": "code",
   "execution_count": 20,
   "id": "3d9ff66d-01b4-41b5-a87b-79695b94ce54",
   "metadata": {},
   "outputs": [],
   "source": [
    "df_transformed = df_clean.copy()\n",
    "df_transformed['alpha'] = df_clean['alpha'].apply('log')\n",
    "\n",
    "df_transformed['delta'] = df_clean['delta'].apply('log')\n",
    "df_transformed['beta'] = df_clean['beta'].apply('log')\n",
    "df_transformed['gamma'] = df_clean['gamma'].apply('log')"
   ]
  },
  {
   "cell_type": "code",
   "execution_count": 21,
   "id": "391c7ba8-3103-4c15-98ef-579d8d0a9321",
   "metadata": {},
   "outputs": [
    {
     "data": {
      "text/html": [
       "<div>\n",
       "<style scoped>\n",
       "    .dataframe tbody tr th:only-of-type {\n",
       "        vertical-align: middle;\n",
       "    }\n",
       "\n",
       "    .dataframe tbody tr th {\n",
       "        vertical-align: top;\n",
       "    }\n",
       "\n",
       "    .dataframe thead th {\n",
       "        text-align: right;\n",
       "    }\n",
       "</style>\n",
       "<table border=\"1\" class=\"dataframe\">\n",
       "  <thead>\n",
       "    <tr style=\"text-align: right;\">\n",
       "      <th></th>\n",
       "      <th>alpha</th>\n",
       "      <th>delta</th>\n",
       "      <th>beta</th>\n",
       "      <th>gamma</th>\n",
       "      <th>state</th>\n",
       "      <th>channel</th>\n",
       "      <th>subject</th>\n",
       "    </tr>\n",
       "  </thead>\n",
       "  <tbody>\n",
       "    <tr>\n",
       "      <th>0</th>\n",
       "      <td>-2.214683</td>\n",
       "      <td>-2.106715</td>\n",
       "      <td>-1.715645</td>\n",
       "      <td>-3.191958</td>\n",
       "      <td>focused</td>\n",
       "      <td>AF3</td>\n",
       "      <td>subject_5</td>\n",
       "    </tr>\n",
       "    <tr>\n",
       "      <th>1</th>\n",
       "      <td>-2.478376</td>\n",
       "      <td>-2.539694</td>\n",
       "      <td>-2.598762</td>\n",
       "      <td>-3.260806</td>\n",
       "      <td>unfocused</td>\n",
       "      <td>AF3</td>\n",
       "      <td>subject_5</td>\n",
       "    </tr>\n",
       "    <tr>\n",
       "      <th>2</th>\n",
       "      <td>-3.339396</td>\n",
       "      <td>-2.207430</td>\n",
       "      <td>-3.243676</td>\n",
       "      <td>-4.120173</td>\n",
       "      <td>drowsy</td>\n",
       "      <td>AF3</td>\n",
       "      <td>subject_5</td>\n",
       "    </tr>\n",
       "    <tr>\n",
       "      <th>3</th>\n",
       "      <td>0.656078</td>\n",
       "      <td>3.590592</td>\n",
       "      <td>-0.113803</td>\n",
       "      <td>-1.545552</td>\n",
       "      <td>focused</td>\n",
       "      <td>F7</td>\n",
       "      <td>subject_5</td>\n",
       "    </tr>\n",
       "    <tr>\n",
       "      <th>4</th>\n",
       "      <td>0.564483</td>\n",
       "      <td>3.597481</td>\n",
       "      <td>-0.526738</td>\n",
       "      <td>-1.810513</td>\n",
       "      <td>unfocused</td>\n",
       "      <td>F7</td>\n",
       "      <td>subject_5</td>\n",
       "    </tr>\n",
       "    <tr>\n",
       "      <th>...</th>\n",
       "      <td>...</td>\n",
       "      <td>...</td>\n",
       "      <td>...</td>\n",
       "      <td>...</td>\n",
       "      <td>...</td>\n",
       "      <td>...</td>\n",
       "      <td>...</td>\n",
       "    </tr>\n",
       "    <tr>\n",
       "      <th>205</th>\n",
       "      <td>-3.469193</td>\n",
       "      <td>-2.195682</td>\n",
       "      <td>-2.830449</td>\n",
       "      <td>-3.509048</td>\n",
       "      <td>unfocused</td>\n",
       "      <td>F8</td>\n",
       "      <td>subject_33</td>\n",
       "    </tr>\n",
       "    <tr>\n",
       "      <th>206</th>\n",
       "      <td>-2.572097</td>\n",
       "      <td>-1.194097</td>\n",
       "      <td>-3.146518</td>\n",
       "      <td>-3.616630</td>\n",
       "      <td>drowsy</td>\n",
       "      <td>F8</td>\n",
       "      <td>subject_33</td>\n",
       "    </tr>\n",
       "    <tr>\n",
       "      <th>207</th>\n",
       "      <td>0.495099</td>\n",
       "      <td>4.469770</td>\n",
       "      <td>-0.107089</td>\n",
       "      <td>-1.551568</td>\n",
       "      <td>focused</td>\n",
       "      <td>AF4</td>\n",
       "      <td>subject_33</td>\n",
       "    </tr>\n",
       "    <tr>\n",
       "      <th>208</th>\n",
       "      <td>1.291949</td>\n",
       "      <td>3.637969</td>\n",
       "      <td>-1.028978</td>\n",
       "      <td>-2.410300</td>\n",
       "      <td>unfocused</td>\n",
       "      <td>AF4</td>\n",
       "      <td>subject_33</td>\n",
       "    </tr>\n",
       "    <tr>\n",
       "      <th>209</th>\n",
       "      <td>3.340630</td>\n",
       "      <td>4.130894</td>\n",
       "      <td>0.205064</td>\n",
       "      <td>-1.981739</td>\n",
       "      <td>drowsy</td>\n",
       "      <td>AF4</td>\n",
       "      <td>subject_33</td>\n",
       "    </tr>\n",
       "  </tbody>\n",
       "</table>\n",
       "<p>209 rows × 7 columns</p>\n",
       "</div>"
      ],
      "text/plain": [
       "        alpha     delta      beta     gamma      state channel     subject\n",
       "0   -2.214683 -2.106715 -1.715645 -3.191958    focused     AF3   subject_5\n",
       "1   -2.478376 -2.539694 -2.598762 -3.260806  unfocused     AF3   subject_5\n",
       "2   -3.339396 -2.207430 -3.243676 -4.120173     drowsy     AF3   subject_5\n",
       "3    0.656078  3.590592 -0.113803 -1.545552    focused      F7   subject_5\n",
       "4    0.564483  3.597481 -0.526738 -1.810513  unfocused      F7   subject_5\n",
       "..        ...       ...       ...       ...        ...     ...         ...\n",
       "205 -3.469193 -2.195682 -2.830449 -3.509048  unfocused      F8  subject_33\n",
       "206 -2.572097 -1.194097 -3.146518 -3.616630     drowsy      F8  subject_33\n",
       "207  0.495099  4.469770 -0.107089 -1.551568    focused     AF4  subject_33\n",
       "208  1.291949  3.637969 -1.028978 -2.410300  unfocused     AF4  subject_33\n",
       "209  3.340630  4.130894  0.205064 -1.981739     drowsy     AF4  subject_33\n",
       "\n",
       "[209 rows x 7 columns]"
      ]
     },
     "execution_count": 21,
     "metadata": {},
     "output_type": "execute_result"
    }
   ],
   "source": [
    "df_transformed"
   ]
  },
  {
   "cell_type": "markdown",
   "id": "0a4a89af-028f-49a5-87d3-d2f0875d57d3",
   "metadata": {},
   "source": [
    "## Scatter plots\n",
    "\n",
    "*  **Goal**: identify dependencies between continous variables (powers)\n",
    "* `.plot.scatter` or `.plot(kind='scatter', ...)`\n",
    "* refine hypotheses"
   ]
  },
  {
   "cell_type": "code",
   "execution_count": 22,
   "id": "eb18b623-52c1-4282-bac3-9bb0d8ba0017",
   "metadata": {},
   "outputs": [
    {
     "data": {
      "text/plain": [
       "<AxesSubplot:xlabel='alpha', ylabel='gamma'>"
      ]
     },
     "execution_count": 22,
     "metadata": {},
     "output_type": "execute_result"
    },
    {
     "data": {
      "image/png": "[encoded data removed]",
      "text/plain": [
       "<Figure size 432x288 with 1 Axes>"
      ]
     },
     "metadata": {
      "needs_background": "light"
     },
     "output_type": "display_data"
    }
   ],
   "source": [
    "df_transformed.plot.scatter(x='alpha', y='gamma')"
   ]
  },
  {
   "cell_type": "code",
   "execution_count": 23,
   "id": "3f577458-4d53-4fe8-ae83-41e572188c9c",
   "metadata": {},
   "outputs": [],
   "source": [
    "df_focused = df_transformed[df_transformed['state'] == 'focused']\n",
    "df_unfocused = df_transformed[df_transformed['state'] == 'unfocused']\n",
    "df_drowsy = df_transformed[df_transformed['state'] == 'drowsy']"
   ]
  },
  {
   "cell_type": "code",
   "execution_count": 24,
   "id": "3f39d951-779f-4207-aa59-4814bf8e1d06",
   "metadata": {},
   "outputs": [
    {
     "data": {
      "text/plain": [
       "<AxesSubplot:xlabel='alpha', ylabel='gamma'>"
      ]
     },
     "execution_count": 24,
     "metadata": {},
     "output_type": "execute_result"
    },
    {
     "data": {
      "image/png": "[encoded data removed]",
      "text/plain": [
       "<Figure size 432x288 with 1 Axes>"
      ]
     },
     "metadata": {
      "needs_background": "light"
     },
     "output_type": "display_data"
    }
   ],
   "source": [
    "ax = df_focused.plot.scatter(x='alpha', y='gamma', label='focused')\n",
    "df_unfocused.plot.scatter(x='alpha', y='gamma', c='r', ax=ax, label='unfocused')\n",
    "df_drowsy.plot.scatter(x='alpha', y='gamma', c='m', ax=ax, label='drowsy')"
   ]
  },
  {
   "cell_type": "markdown",
   "id": "577e2458-0c5f-4a96-828d-6f8c5bc1588d",
   "metadata": {},
   "source": [
    "## Compare groups\n",
    "\n",
    "* **Goal**: \n",
    "  - 1) explore dependencies between categorical and continuous variables \n",
    "  - 2) identify causes for underlying variability in CV (stratification)\n",
    "* `.groupby`\n",
    "* transposition, `.T`\n",
    "* `.plot.bar`\n",
    "* `sns.boxplot`\n",
    "* **Excercise**: powers vs electrodes"
   ]
  },
  {
   "cell_type": "code",
   "execution_count": 25,
   "id": "de75126c-bd4c-45c0-a0ca-4a340166c73d",
   "metadata": {},
   "outputs": [
    {
     "data": {
      "text/plain": [
       "array(['subject_5', 'subject_10', 'subject_20', 'subject_25',\n",
       "       'subject_33'], dtype=object)"
      ]
     },
     "execution_count": 25,
     "metadata": {},
     "output_type": "execute_result"
    }
   ],
   "source": [
    "df_transformed['subject'].unique()"
   ]
  },
  {
   "cell_type": "code",
   "execution_count": 26,
   "id": "12e5b48b-05f1-49b4-a668-84277ab85398",
   "metadata": {},
   "outputs": [],
   "source": [
    "df_mean_power = df_transformed.groupby('subject').mean()"
   ]
  },
  {
   "cell_type": "code",
   "execution_count": 27,
   "id": "2a8a1017-7d60-4a73-abf6-dff4857e5782",
   "metadata": {},
   "outputs": [],
   "source": [
    "df_mean_transposed = df_mean_power.T"
   ]
  },
  {
   "cell_type": "code",
   "execution_count": 28,
   "id": "8dc7c1f1-b93f-4863-b00b-4ff9df5707e5",
   "metadata": {},
   "outputs": [
    {
     "data": {
      "text/plain": [
       "<AxesSubplot:xlabel='subject'>"
      ]
     },
     "execution_count": 28,
     "metadata": {},
     "output_type": "execute_result"
    },
    {
     "data": {
      "image/png": "[encoded data removed]",
      "text/plain": [
       "<Figure size 432x288 with 1 Axes>"
      ]
     },
     "metadata": {
      "needs_background": "light"
     },
     "output_type": "display_data"
    }
   ],
   "source": [
    "df_mean_power.plot.bar()"
   ]
  },
  {
   "cell_type": "code",
   "execution_count": 29,
   "id": "0b3a1c52-4466-4d30-8dd9-afbf2bec2381",
   "metadata": {},
   "outputs": [
    {
     "data": {
      "text/plain": [
       "<AxesSubplot:>"
      ]
     },
     "execution_count": 29,
     "metadata": {},
     "output_type": "execute_result"
    },
    {
     "data": {
      "image/png": "[encoded data removed]",
      "text/plain": [
       "<Figure size 432x288 with 1 Axes>"
      ]
     },
     "metadata": {
      "needs_background": "light"
     },
     "output_type": "display_data"
    }
   ],
   "source": [
    "df_mean_transposed.plot.bar()"
   ]
  },
  {
   "cell_type": "code",
   "execution_count": 30,
   "id": "6f8be8c3-1aee-4032-aac6-763103420593",
   "metadata": {},
   "outputs": [],
   "source": [
    "# url = 'https://bit.ly/3BTE0A1'\n",
    "url ='eeg_powers.csv'\n",
    "df = pd.read_csv(url, index_col=0)\n",
    "\n",
    "df_clean = df[df['alpha'] != 0]\n",
    "\n",
    "df_transformed = df_clean.copy()\n",
    "df_transformed['alpha'] = df_clean['alpha'].apply('log')\n",
    "\n",
    "df_transformed['delta'] = df_clean['delta'].apply('log')\n",
    "df_transformed['beta'] = df_clean['beta'].apply('log')\n",
    "df_transformed['gamma'] = df_clean['gamma'].apply('log')\n",
    "\n"
   ]
  },
  {
   "cell_type": "code",
   "execution_count": 31,
   "id": "a203e2c6-e30b-4cbf-9075-6f5e17bc2fe3",
   "metadata": {},
   "outputs": [
    {
     "data": {
      "text/plain": [
       "<AxesSubplot:xlabel='channel', ylabel='gamma'>"
      ]
     },
     "execution_count": 31,
     "metadata": {},
     "output_type": "execute_result"
    },
    {
     "data": {
      "image/png": "[encoded data removed]",
      "text/plain": [
       "<Figure size 432x288 with 1 Axes>"
      ]
     },
     "metadata": {
      "needs_background": "light"
     },
     "output_type": "display_data"
    }
   ],
   "source": [
    "sns.boxplot(data=df_transformed, x='channel', y='gamma')"
   ]
  },
  {
   "cell_type": "code",
   "execution_count": 32,
   "id": "e79cc077-2d8b-4f5d-ac5f-fbb5ddbc0aee",
   "metadata": {},
   "outputs": [
    {
     "data": {
      "text/plain": [
       "<AxesSubplot:xlabel='subject', ylabel='gamma'>"
      ]
     },
     "execution_count": 32,
     "metadata": {},
     "output_type": "execute_result"
    },
    {
     "data": {
      "image/png": "[encoded data removed]",
      "text/plain": [
       "<Figure size 432x288 with 1 Axes>"
      ]
     },
     "metadata": {
      "needs_background": "light"
     },
     "output_type": "display_data"
    }
   ],
   "source": [
    "sns.boxplot(data=df_transformed, x='subject', y='gamma')"
   ]
  },
  {
   "cell_type": "code",
   "execution_count": 33,
   "id": "013187c2-74c7-4218-86d7-02c3824ae101",
   "metadata": {},
   "outputs": [],
   "source": [
    "high_channels = ['P7', 'O1', 'O2', 'P8', 'AF4', 'F3', 'F7']"
   ]
  },
  {
   "cell_type": "code",
   "execution_count": 34,
   "id": "6cedebce-464a-4451-92d1-d1c263adaf55",
   "metadata": {},
   "outputs": [],
   "source": [
    "df_high = df_transformed[df_transformed['channel'].isin(high_channels)]\n",
    "df_low = df_transformed[~df_transformed['channel'].isin(high_channels)]"
   ]
  },
  {
   "cell_type": "code",
   "execution_count": 35,
   "id": "d7973a83-5604-469d-a0f1-d4f0be8b18bd",
   "metadata": {},
   "outputs": [
    {
     "data": {
      "text/plain": [
       "<AxesSubplot:xlabel='gamma', ylabel='alpha'>"
      ]
     },
     "execution_count": 35,
     "metadata": {},
     "output_type": "execute_result"
    },
    {
     "data": {
      "image/png": "[encoded data removed]",
      "text/plain": [
       "<Figure size 432x288 with 1 Axes>"
      ]
     },
     "metadata": {
      "needs_background": "light"
     },
     "output_type": "display_data"
    }
   ],
   "source": [
    "ax = df_high.plot.scatter(x='gamma', y='alpha', c='r')\n",
    "df_low.plot.scatter(x='gamma', y='alpha', ax=ax)"
   ]
  },
  {
   "cell_type": "markdown",
   "id": "b0cfb6aa-7f7d-4ebd-855d-85e8d2de3904",
   "metadata": {},
   "source": [
    "## Tidy data (advanced)\n",
    "\n",
    "* **Goal**: Combine multiple data dimensions in one graph (2 cat and 1 CV)\n",
    "* tidy data\n",
    "* pandas `df.melt`\n",
    "* `sns.boxplot(data= , x=, y=, hue=)`"
   ]
  },
  {
   "cell_type": "markdown",
   "id": "393cf435-be7b-45c3-b76d-9c974d420b6b",
   "metadata": {},
   "source": [
    "In order to plot different freq bands and states on the same graphy, we need to reformat the data in the [tidy (long) format](https://seaborn.pydata.org/tutorial/data_structure.html#long-form-vs-wide-form-data). For example, we will use it to plot boxplots with mutliple bar hues: https://seaborn.pydata.org/generated/seaborn.boxplot.html "
   ]
  },
  {
   "cell_type": "markdown",
   "id": "ee125629-a6a9-43f8-bd61-18e671c2b637",
   "metadata": {},
   "source": [
    "## Splitting data\n",
    "\n",
    "* **Goal**: split data into distinct groups based on data (stratification)\n",
    "* boolean indexing\n",
    "* `.isin`\n",
    "* `sns.pairplot`"
   ]
  },
  {
   "cell_type": "code",
   "execution_count": 36,
   "id": "910c949d-917d-463c-882f-ec13d490325d",
   "metadata": {},
   "outputs": [
    {
     "data": {
      "text/plain": [
       "<seaborn.axisgrid.PairGrid at 0x7f9c0aa58700>"
      ]
     },
     "execution_count": 36,
     "metadata": {},
     "output_type": "execute_result"
    },
    {
     "data": {
      "image/png": "[encoded data removed]",
      "text/plain": [
       "<Figure size 720x720 with 20 Axes>"
      ]
     },
     "metadata": {
      "needs_background": "light"
     },
     "output_type": "display_data"
    }
   ],
   "source": [
    "sns.pairplot(data=df_high)"
   ]
  },
  {
   "cell_type": "markdown",
   "id": "56fd4331-b9c0-4720-9211-89c0b54e6b35",
   "metadata": {},
   "source": [
    "## Visualising correlations\n",
    "\n",
    "* **Goal**: Analyse correlations in stratified data\n",
    "* `sns.pairplot`\n",
    "* `df.corr`\n",
    "* `sns.heatmap`"
   ]
  },
  {
   "cell_type": "code",
   "execution_count": 37,
   "id": "1bd7bc8d-f8fe-471d-b15a-8662e0061d37",
   "metadata": {},
   "outputs": [],
   "source": [
    "df_corr = df_high[['delta', 'alpha', 'beta', 'gamma']].corr()"
   ]
  },
  {
   "cell_type": "code",
   "execution_count": 38,
   "id": "f3110a5e-b0e2-4fff-87f2-ea46c115a028",
   "metadata": {},
   "outputs": [
    {
     "data": {
      "text/plain": [
       "<AxesSubplot:>"
      ]
     },
     "execution_count": 38,
     "metadata": {},
     "output_type": "execute_result"
    },
    {
     "data": {
      "image/png": "[encoded data removed]",
      "text/plain": [
       "<Figure size 432x288 with 2 Axes>"
      ]
     },
     "metadata": {
      "needs_background": "light"
     },
     "output_type": "display_data"
    }
   ],
   "source": [
    "sns.heatmap(df_corr)"
   ]
  },
  {
   "cell_type": "markdown",
   "id": "d8dff8df-29c9-40ad-994d-c8d166e37ce5",
   "metadata": {},
   "source": [
    "## Statistics (advanced)\n",
    "\n",
    "* **Goal**: Look for differences in powers in different states\n",
    "* statsmodels\n",
    "* `statsmodels.formula.api.ols`\n",
    "* `statsmodels.api.stats.anova_lm`"
   ]
  },
  {
   "cell_type": "code",
   "execution_count": 39,
   "id": "31382ab2-b268-4ffb-98b6-88eeb9fc972b",
   "metadata": {},
   "outputs": [],
   "source": [
    "import statsmodels.api as sm\n",
    "from statsmodels.formula.api import ols"
   ]
  },
  {
   "cell_type": "markdown",
   "id": "593703cd-c15c-4d9b-b370-e3d6fc96de83",
   "metadata": {},
   "source": [
    "## Clustering (advanced)"
   ]
  },
  {
   "cell_type": "markdown",
   "id": "122ce38a-3fa5-4fdc-8666-ddeee0170451",
   "metadata": {},
   "source": [
    "* **Goal**: unsupervised learning\n",
    "* sklearn\n",
    "* `sklearn.cluster.KMeans`\n",
    "* `.fit`, `labels_`\n",
    "* plotting multiple graphs in the same axes"
   ]
  },
  {
   "cell_type": "code",
   "execution_count": 40,
   "id": "c726d9a0-7219-4c98-83d6-0b37ca804fb2",
   "metadata": {},
   "outputs": [],
   "source": [
    "from sklearn import cluster"
   ]
  },
  {
   "cell_type": "markdown",
   "id": "ce8a246b-2b41-4098-9d64-67c343322bac",
   "metadata": {},
   "source": [
    "## Groupby revisited\n",
    "\n",
    "* **Goal**: plot number of channel recordings belonging to each cluster (subjects and states confounded)\n",
    "* `.value_counts`"
   ]
  },
  {
   "cell_type": "code",
   "execution_count": null,
   "id": "1b07e62f-0658-4bab-9d33-0f5e1945154a",
   "metadata": {},
   "outputs": [],
   "source": []
  }
 ],
 "metadata": {
  "kernelspec": {
   "display_name": "Python 3",
   "language": "python",
   "name": "python3"
  },
  "language_info": {
   "codemirror_mode": {
    "name": "ipython",
    "version": 3
   },
   "file_extension": ".py",
   "mimetype": "text/x-python",
   "name": "python",
   "nbconvert_exporter": "python",
   "pygments_lexer": "ipython3",
   "version": "3.8.8"
  }
 },
 "nbformat": 4,
 "nbformat_minor": 5
}
